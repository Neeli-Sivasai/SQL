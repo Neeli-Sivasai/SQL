{
 "cells": [
  {
   "cell_type": "code",
   "execution_count": 21,
   "metadata": {},
   "outputs": [],
   "source": [
    "import ibm_db"
   ]
  },
  {
   "cell_type": "code",
   "execution_count": 22,
   "metadata": {},
   "outputs": [
    {
     "name": "stdout",
     "output_type": "stream",
     "text": [
      "The sql extension is already loaded. To reload it, use:\n",
      "  %reload_ext sql\n"
     ]
    }
   ],
   "source": [
    "%load_ext sql"
   ]
  },
  {
   "cell_type": "code",
   "execution_count": 23,
   "metadata": {},
   "outputs": [],
   "source": [
    "%sql ibm_db_sa://yjc26091:Wr2esVkDXIPH7t16@55fbc997-9266-4331-afd3-888b05e734c0.bs2io90l08kqb1od8lcg.databases.appdomain.cloud:31929/BLUDB?security=SSL"
   ]
  },
  {
   "cell_type": "markdown",
   "metadata": {},
   "source": [
    "## Problems\n",
    "\n",
    "Now write and execute SQL queries to solve assignment problems\n",
    "\n",
    "### Problem 1\n",
    "\n",
    "##### Find the total number of crimes recorded in the CRIME table.\n"
   ]
  },
  {
   "cell_type": "code",
   "execution_count": 24,
   "metadata": {},
   "outputs": [
    {
     "name": "stdout",
     "output_type": "stream",
     "text": [
      " * ibm_db_sa://yjc26091:***@55fbc997-9266-4331-afd3-888b05e734c0.bs2io90l08kqb1od8lcg.databases.appdomain.cloud:31929/BLUDB\n",
      "Done.\n"
     ]
    },
    {
     "data": {
      "text/html": [
       "<table>\n",
       "    <tr>\n",
       "        <th>1</th>\n",
       "    </tr>\n",
       "    <tr>\n",
       "        <td>533</td>\n",
       "    </tr>\n",
       "</table>"
      ],
      "text/plain": [
       "[(533,)]"
      ]
     },
     "execution_count": 24,
     "metadata": {},
     "output_type": "execute_result"
    }
   ],
   "source": [
    "%%sql \n",
    "select count(*) from crime_chicago"
   ]
  },
  {
   "cell_type": "markdown",
   "metadata": {},
   "source": [
    "### Problem 2\n",
    "\n",
    "##### List community areas with per capita income less than 11000.\n"
   ]
  },
  {
   "cell_type": "code",
   "execution_count": 25,
   "metadata": {},
   "outputs": [
    {
     "name": "stdout",
     "output_type": "stream",
     "text": [
      " * ibm_db_sa://yjc26091:***@55fbc997-9266-4331-afd3-888b05e734c0.bs2io90l08kqb1od8lcg.databases.appdomain.cloud:31929/BLUDB\n",
      "Done.\n"
     ]
    },
    {
     "data": {
      "text/html": [
       "<table>\n",
       "    <tr>\n",
       "        <th>community_area_name</th>\n",
       "    </tr>\n",
       "    <tr>\n",
       "        <td>West Garfield Park</td>\n",
       "    </tr>\n",
       "    <tr>\n",
       "        <td>South Lawndale</td>\n",
       "    </tr>\n",
       "    <tr>\n",
       "        <td>Fuller Park</td>\n",
       "    </tr>\n",
       "    <tr>\n",
       "        <td>Riverdale</td>\n",
       "    </tr>\n",
       "</table>"
      ],
      "text/plain": [
       "[('West Garfield Park',),\n",
       " ('South Lawndale',),\n",
       " ('Fuller Park',),\n",
       " ('Riverdale',)]"
      ]
     },
     "execution_count": 25,
     "metadata": {},
     "output_type": "execute_result"
    }
   ],
   "source": [
    "%%sql\n",
    "select community_area_name from census_data where per_capita_income < 11000"
   ]
  },
  {
   "cell_type": "markdown",
   "metadata": {},
   "source": [
    "### Problem 3\n",
    "\n",
    "##### List all case numbers for crimes  involving minors?(children are not considered minors for the purposes of crime analysis)\n"
   ]
  },
  {
   "cell_type": "code",
   "execution_count": 26,
   "metadata": {},
   "outputs": [
    {
     "name": "stdout",
     "output_type": "stream",
     "text": [
      " * ibm_db_sa://yjc26091:***@55fbc997-9266-4331-afd3-888b05e734c0.bs2io90l08kqb1od8lcg.databases.appdomain.cloud:31929/BLUDB\n",
      "Done.\n"
     ]
    },
    {
     "data": {
      "text/html": [
       "<table>\n",
       "    <tr>\n",
       "        <th>id</th>\n",
       "        <th>case_number</th>\n",
       "        <th>DATE</th>\n",
       "        <th>block</th>\n",
       "        <th>iucr</th>\n",
       "        <th>primary_type</th>\n",
       "        <th>description</th>\n",
       "        <th>location_description</th>\n",
       "        <th>arrest</th>\n",
       "        <th>domestic</th>\n",
       "        <th>beat</th>\n",
       "        <th>district</th>\n",
       "        <th>ward</th>\n",
       "        <th>community_area_number</th>\n",
       "        <th>fbicode</th>\n",
       "        <th>x_coordinate</th>\n",
       "        <th>y_coordinate</th>\n",
       "        <th>YEAR</th>\n",
       "        <th>latitude</th>\n",
       "        <th>longitude</th>\n",
       "        <th>location</th>\n",
       "    </tr>\n",
       "    <tr>\n",
       "        <td>3987219</td>\n",
       "        <td>HL266884</td>\n",
       "        <td>31-03-2005</td>\n",
       "        <td>024XX N CLARK ST</td>\n",
       "        <td>2210</td>\n",
       "        <td>LIQUOR LAW VIOL</td>\n",
       "        <td>SELL/GIVE/DEL LIQUOR TO MINOR</td>\n",
       "        <td>CONVENIENCE STORE</td>\n",
       "        <td>TRUE</td>\n",
       "        <td>FALSE</td>\n",
       "        <td>2333</td>\n",
       "        <td>19</td>\n",
       "        <td>43</td>\n",
       "        <td>7</td>\n",
       "        <td>22</td>\n",
       "        <td>1172680</td>\n",
       "        <td>1916483</td>\n",
       "        <td>2005</td>\n",
       "        <td>41.92626872</td>\n",
       "        <td>-87.64089934</td>\n",
       "        <td>(41.926268719, -87.640899336)</td>\n",
       "    </tr>\n",
       "    <tr>\n",
       "        <td>3266814</td>\n",
       "        <td>HK238408</td>\n",
       "        <td>13-03-2004</td>\n",
       "        <td>093XX S STONY ISLAND AVE</td>\n",
       "        <td>2230</td>\n",
       "        <td>LIQUOR LAW VIOL</td>\n",
       "        <td>ILLEGAL CONSUMPTION BY MINOR</td>\n",
       "        <td>ALLEY</td>\n",
       "        <td>TRUE</td>\n",
       "        <td>FALSE</td>\n",
       "        <td>413</td>\n",
       "        <td>4</td>\n",
       "        <td>8</td>\n",
       "        <td>48</td>\n",
       "        <td>22</td>\n",
       "        <td>1188539</td>\n",
       "        <td>1843379</td>\n",
       "        <td>2004</td>\n",
       "        <td>41.72530099</td>\n",
       "        <td>-87.58496589</td>\n",
       "        <td>(41.72530099, -87.584965887)</td>\n",
       "    </tr>\n",
       "</table>"
      ],
      "text/plain": [
       "[(3987219, 'HL266884', '31-03-2005', '024XX N CLARK ST', '2210', 'LIQUOR LAW VIOL', 'SELL/GIVE/DEL LIQUOR TO MINOR', 'CONVENIENCE STORE', 'TRUE', 'FALSE', 2333, 19, 43, 7, '22', 1172680, 1916483, 2005, Decimal('41.92626872'), Decimal('-87.64089934'), '(41.926268719, -87.640899336)'),\n",
       " (3266814, 'HK238408', '13-03-2004', '093XX S STONY ISLAND AVE', '2230', 'LIQUOR LAW VIOL', 'ILLEGAL CONSUMPTION BY MINOR', 'ALLEY', 'TRUE', 'FALSE', 413, 4, 8, 48, '22', 1188539, 1843379, 2004, Decimal('41.72530099'), Decimal('-87.58496589'), '(41.72530099, -87.584965887)')]"
      ]
     },
     "execution_count": 26,
     "metadata": {},
     "output_type": "execute_result"
    }
   ],
   "source": [
    "%%sql\n",
    "SELECT * FROM CRIME_CHICAGO WHERE DESCRIPTION LIKE '%MINOR%';"
   ]
  },
  {
   "cell_type": "markdown",
   "metadata": {},
   "source": [
    "### Problem 4\n",
    "\n",
    "##### List all kidnapping crimes involving a child?\n"
   ]
  },
  {
   "cell_type": "code",
   "execution_count": 27,
   "metadata": {},
   "outputs": [
    {
     "name": "stdout",
     "output_type": "stream",
     "text": [
      " * ibm_db_sa://yjc26091:***@55fbc997-9266-4331-afd3-888b05e734c0.bs2io90l08kqb1od8lcg.databases.appdomain.cloud:31929/BLUDB\n",
      "Done.\n"
     ]
    },
    {
     "data": {
      "text/html": [
       "<table>\n",
       "    <tr>\n",
       "        <th>id</th>\n",
       "        <th>case_number</th>\n",
       "        <th>DATE</th>\n",
       "        <th>block</th>\n",
       "        <th>iucr</th>\n",
       "        <th>primary_type</th>\n",
       "        <th>description</th>\n",
       "        <th>location_description</th>\n",
       "        <th>arrest</th>\n",
       "        <th>domestic</th>\n",
       "        <th>beat</th>\n",
       "        <th>district</th>\n",
       "        <th>ward</th>\n",
       "        <th>community_area_number</th>\n",
       "        <th>fbicode</th>\n",
       "        <th>x_coordinate</th>\n",
       "        <th>y_coordinate</th>\n",
       "        <th>YEAR</th>\n",
       "        <th>latitude</th>\n",
       "        <th>longitude</th>\n",
       "        <th>location</th>\n",
       "    </tr>\n",
       "    <tr>\n",
       "        <td>5276766</td>\n",
       "        <td>HN144152</td>\n",
       "        <td>26-01-2007</td>\n",
       "        <td>050XX W VAN BUREN ST</td>\n",
       "        <td>1792</td>\n",
       "        <td>KIDNAPPING</td>\n",
       "        <td>CHILD ABDUCTION/STRANGER</td>\n",
       "        <td>STREET</td>\n",
       "        <td>FALSE</td>\n",
       "        <td>FALSE</td>\n",
       "        <td>1533</td>\n",
       "        <td>15</td>\n",
       "        <td>29</td>\n",
       "        <td>25</td>\n",
       "        <td>20</td>\n",
       "        <td>1143050</td>\n",
       "        <td>1897546</td>\n",
       "        <td>2007</td>\n",
       "        <td>41.87490841</td>\n",
       "        <td>-87.75024931</td>\n",
       "        <td>(41.874908413, -87.750249307)</td>\n",
       "    </tr>\n",
       "</table>"
      ],
      "text/plain": [
       "[(5276766, 'HN144152', '26-01-2007', '050XX W VAN BUREN ST', '1792', 'KIDNAPPING', 'CHILD ABDUCTION/STRANGER', 'STREET', 'FALSE', 'FALSE', 1533, 15, 29, 25, '20', 1143050, 1897546, 2007, Decimal('41.87490841'), Decimal('-87.75024931'), '(41.874908413, -87.750249307)')]"
      ]
     },
     "execution_count": 27,
     "metadata": {},
     "output_type": "execute_result"
    }
   ],
   "source": [
    "%%sql\n",
    "SELECT * FROM CRIME_CHICAGO WHERE PRIMARY_TYPE LIKE '%KIDNAP%'"
   ]
  },
  {
   "cell_type": "markdown",
   "metadata": {},
   "source": [
    "### Problem 5\n",
    "\n",
    "##### What kinds of crimes were recorded at schools?\n"
   ]
  },
  {
   "cell_type": "code",
   "execution_count": 28,
   "metadata": {},
   "outputs": [
    {
     "name": "stdout",
     "output_type": "stream",
     "text": [
      " * ibm_db_sa://yjc26091:***@55fbc997-9266-4331-afd3-888b05e734c0.bs2io90l08kqb1od8lcg.databases.appdomain.cloud:31929/BLUDB\n",
      "Done.\n"
     ]
    },
    {
     "data": {
      "text/html": [
       "<table>\n",
       "    <tr>\n",
       "        <th>description</th>\n",
       "    </tr>\n",
       "    <tr>\n",
       "        <td>SIMPLE</td>\n",
       "    </tr>\n",
       "    <tr>\n",
       "        <td>PRO EMP HANDS NO/MIN INJURY</td>\n",
       "    </tr>\n",
       "    <tr>\n",
       "        <td>SIMPLE</td>\n",
       "    </tr>\n",
       "    <tr>\n",
       "        <td>SIMPLE</td>\n",
       "    </tr>\n",
       "    <tr>\n",
       "        <td>SIMPLE</td>\n",
       "    </tr>\n",
       "    <tr>\n",
       "        <td>TO VEHICLE</td>\n",
       "    </tr>\n",
       "    <tr>\n",
       "        <td>POSS: HEROIN(WHITE)</td>\n",
       "    </tr>\n",
       "    <tr>\n",
       "        <td>MANU/DEL:CANNABIS 10GM OR LESS</td>\n",
       "    </tr>\n",
       "    <tr>\n",
       "        <td>PRO EMP HANDS NO/MIN INJURY</td>\n",
       "    </tr>\n",
       "    <tr>\n",
       "        <td>TO LAND</td>\n",
       "    </tr>\n",
       "    <tr>\n",
       "        <td>BOMB THREAT</td>\n",
       "    </tr>\n",
       "    <tr>\n",
       "        <td>BOMB THREAT</td>\n",
       "    </tr>\n",
       "</table>"
      ],
      "text/plain": [
       "[('SIMPLE',),\n",
       " ('PRO EMP HANDS NO/MIN INJURY',),\n",
       " ('SIMPLE',),\n",
       " ('SIMPLE',),\n",
       " ('SIMPLE',),\n",
       " ('TO VEHICLE',),\n",
       " ('POSS: HEROIN(WHITE)',),\n",
       " ('MANU/DEL:CANNABIS 10GM OR LESS',),\n",
       " ('PRO EMP HANDS NO/MIN INJURY',),\n",
       " ('TO LAND',),\n",
       " ('BOMB THREAT',),\n",
       " ('BOMB THREAT',)]"
      ]
     },
     "execution_count": 28,
     "metadata": {},
     "output_type": "execute_result"
    }
   ],
   "source": [
    "%%sql\n",
    "SELECT DESCRIPTION FROM CRIME_CHICAGO WHERE LOCATION_DESCRIPTION LIKE '%SCHOOL%'"
   ]
  },
  {
   "cell_type": "markdown",
   "metadata": {},
   "source": [
    "### Problem 6\n",
    "\n",
    "##### List the average safety score for all types of schools.\n"
   ]
  },
  {
   "cell_type": "code",
   "execution_count": 29,
   "metadata": {},
   "outputs": [
    {
     "name": "stdout",
     "output_type": "stream",
     "text": [
      " * ibm_db_sa://yjc26091:***@55fbc997-9266-4331-afd3-888b05e734c0.bs2io90l08kqb1od8lcg.databases.appdomain.cloud:31929/BLUDB\n",
      "Done.\n"
     ]
    },
    {
     "data": {
      "text/html": [
       "<table>\n",
       "    <tr>\n",
       "        <th>1</th>\n",
       "    </tr>\n",
       "    <tr>\n",
       "        <td>49</td>\n",
       "    </tr>\n",
       "</table>"
      ],
      "text/plain": [
       "[(49,)]"
      ]
     },
     "execution_count": 29,
     "metadata": {},
     "output_type": "execute_result"
    }
   ],
   "source": [
    "%%sql\n",
    "SELECT AVG(SAFETY_SCORE) FROM CHICAGO_PUBLIC_SCHOOLS"
   ]
  },
  {
   "cell_type": "markdown",
   "metadata": {},
   "source": [
    "### Problem 7\n",
    "\n",
    "##### List 5 community areas with highest % of households below poverty line\n"
   ]
  },
  {
   "cell_type": "code",
   "execution_count": 30,
   "metadata": {},
   "outputs": [
    {
     "name": "stdout",
     "output_type": "stream",
     "text": [
      " * ibm_db_sa://yjc26091:***@55fbc997-9266-4331-afd3-888b05e734c0.bs2io90l08kqb1od8lcg.databases.appdomain.cloud:31929/BLUDB\n",
      "Done.\n"
     ]
    },
    {
     "data": {
      "text/html": [
       "<table>\n",
       "    <tr>\n",
       "        <th>community_area_name</th>\n",
       "    </tr>\n",
       "    <tr>\n",
       "        <td>Riverdale</td>\n",
       "    </tr>\n",
       "    <tr>\n",
       "        <td>Fuller Park</td>\n",
       "    </tr>\n",
       "    <tr>\n",
       "        <td>Englewood</td>\n",
       "    </tr>\n",
       "    <tr>\n",
       "        <td>North Lawndale</td>\n",
       "    </tr>\n",
       "    <tr>\n",
       "        <td>East Garfield Park</td>\n",
       "    </tr>\n",
       "</table>"
      ],
      "text/plain": [
       "[('Riverdale',),\n",
       " ('Fuller Park',),\n",
       " ('Englewood',),\n",
       " ('North Lawndale',),\n",
       " ('East Garfield Park',)]"
      ]
     },
     "execution_count": 30,
     "metadata": {},
     "output_type": "execute_result"
    }
   ],
   "source": [
    "%%sql\n",
    "select community_area_name from census_data order by PERCENT_HOUSEHOLDS_BELOW_POVERTY desc limit 5\n"
   ]
  },
  {
   "cell_type": "markdown",
   "metadata": {},
   "source": [
    "### Problem 8\n",
    "\n",
    "##### Which community area is most crime prone?\n"
   ]
  },
  {
   "cell_type": "code",
   "execution_count": 31,
   "metadata": {},
   "outputs": [
    {
     "name": "stdout",
     "output_type": "stream",
     "text": [
      " * ibm_db_sa://yjc26091:***@55fbc997-9266-4331-afd3-888b05e734c0.bs2io90l08kqb1od8lcg.databases.appdomain.cloud:31929/BLUDB\n",
      "Done.\n"
     ]
    },
    {
     "data": {
      "text/html": [
       "<table>\n",
       "    <tr>\n",
       "        <th>community_area_number</th>\n",
       "        <th>frequency</th>\n",
       "    </tr>\n",
       "    <tr>\n",
       "        <td>25</td>\n",
       "        <td>43</td>\n",
       "    </tr>\n",
       "</table>"
      ],
      "text/plain": [
       "[(25, 43)]"
      ]
     },
     "execution_count": 31,
     "metadata": {},
     "output_type": "execute_result"
    }
   ],
   "source": [
    "%%sql\n",
    "select community_area_number, count(*) as frequency from crime_chicago group by community_area_number order by frequency desc limit 1"
   ]
  },
  {
   "cell_type": "markdown",
   "metadata": {},
   "source": [
    "Double-click **here** for a hint\n",
    "\n",
    "<!--\n",
    "Query for the 'community area number' that is most crime prone.\n",
    "-->\n"
   ]
  },
  {
   "cell_type": "markdown",
   "metadata": {},
   "source": [
    "### Problem 9\n",
    "\n",
    "##### Use a sub-query to find the name of the community area with highest hardship index\n"
   ]
  },
  {
   "cell_type": "code",
   "execution_count": 32,
   "metadata": {},
   "outputs": [
    {
     "name": "stdout",
     "output_type": "stream",
     "text": [
      " * ibm_db_sa://yjc26091:***@55fbc997-9266-4331-afd3-888b05e734c0.bs2io90l08kqb1od8lcg.databases.appdomain.cloud:31929/BLUDB\n",
      "Done.\n"
     ]
    },
    {
     "data": {
      "text/html": [
       "<table>\n",
       "    <tr>\n",
       "        <th>community_area_name</th>\n",
       "    </tr>\n",
       "    <tr>\n",
       "        <td>Riverdale</td>\n",
       "    </tr>\n",
       "</table>"
      ],
      "text/plain": [
       "[('Riverdale',)]"
      ]
     },
     "execution_count": 32,
     "metadata": {},
     "output_type": "execute_result"
    }
   ],
   "source": [
    "%%sql\n",
    "SELECT COMMUNITY_AREA_NAME FROM CENSUS_DATA where hardship_index in (select MAX(hardship_index) from census_data)"
   ]
  }
 ],
 "metadata": {
  "kernelspec": {
   "display_name": "Python 3",
   "language": "python",
   "name": "python3"
  },
  "language_info": {
   "codemirror_mode": {
    "name": "ipython",
    "version": 3
   },
   "file_extension": ".py",
   "mimetype": "text/x-python",
   "name": "python",
   "nbconvert_exporter": "python",
   "pygments_lexer": "ipython3",
   "version": "3.8.3"
  },
  "widgets": {
   "state": {},
   "version": "1.1.2"
  }
 },
 "nbformat": 4,
 "nbformat_minor": 4
}
